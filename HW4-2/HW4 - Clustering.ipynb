{
 "cells": [
  {
   "cell_type": "markdown",
   "metadata": {},
   "source": [
    "# Name(s):"
   ]
  },
  {
   "cell_type": "markdown",
   "metadata": {},
   "source": [
    "# Assignment 4: Clustering\n",
    "\n",
    "In this assignment we'll be looking at three popular types of clustering algorithms -- K-Means clustering, Density Based clustering, and Hierarchical clustering. We'll also look at some measures of cluster quality like cohesion, separation and silhoutte coefficient."
   ]
  },
  {
   "cell_type": "markdown",
   "metadata": {},
   "source": [
    "## Part 1: Implement K Means Clustering\n",
    "\n",
    "In k-means clustering you are given a dataset and a hyperparameter, k, specifying the number of desired clusters. The objective function of k-means is to minimize the sum of squared error (SSE) of the output clusters. Unfortunately, the solution to this problem is NP Hard. In this assignment we'll be implementing the iterative algorithm that produces the locally optimal solution to this problem but guarantees convergence."
   ]
  },
  {
   "cell_type": "code",
   "execution_count": 52,
   "metadata": {},
   "outputs": [],
   "source": [
    "# Some headers\n",
    "import random\n",
    "import numpy as np\n",
    "import pandas as pd\n",
    "import matplotlib.pyplot as plt\n",
    "from numpy.random import rand\n",
    "from numpy import square, sqrt\n",
    "from pandas import DataFrame\n",
    "from sklearn.manifold import MDS\n",
    "from sklearn.model_selection import StratifiedKFold\n",
    "from sklearn.preprocessing import StandardScaler\n",
    "from sklearn.decomposition import PCA\n",
    "from sklearn.neighbors import NearestNeighbors\n",
    "from scipy.spatial.distance import pdist\n"
   ]
  },
  {
   "cell_type": "code",
   "execution_count": 3,
   "metadata": {},
   "outputs": [],
   "source": [
    "# Enable inline mode for matplotlib so that Jupyter displays plots\n",
    "%matplotlib inline"
   ]
  },
  {
   "cell_type": "code",
   "execution_count": 4,
   "metadata": {
    "scrolled": false
   },
   "outputs": [
    {
     "name": "stdout",
     "output_type": "stream",
     "text": [
      "450\n"
     ]
    },
    {
     "data": {
      "image/png": "[encoded data removed]",
      "text/plain": [
       "<Figure size 432x288 with 1 Axes>"
      ]
     },
     "metadata": {
      "needs_background": "light"
     },
     "output_type": "display_data"
    }
   ],
   "source": [
    "# Get data from file\n",
    "data = np.genfromtxt(\"data_kmeans.csv\", delimiter=\",\")\n",
    "plt.scatter(data[:,0],data[:,1], marker='.')\n",
    "print(len(data))"
   ]
  },
  {
   "cell_type": "markdown",
   "metadata": {},
   "source": [
    "Q1. Implement the function `generate_clusters` that returns clusters, given the cluster centroids (`mu`) and the dataset (`data`). Each datapoint needs to be associated to the closest cluster centroid. You may return this in any format/data structure you think is appropriate."
   ]
  },
  {
   "cell_type": "code",
   "execution_count": 5,
   "metadata": {},
   "outputs": [],
   "source": [
    "def generate_clusters(data, mu):\n",
    "    # your code goes here\n",
    "    for point in data: \n",
    "        best_dist = None\n",
    "        my_mu = None\n",
    "        for centroid in mu:\n",
    "            dist = euclidean_dist(point, centroid)\n",
    "            if best_dist == None or best_dist > dist:\n",
    "                best_dist = dist\n",
    "                my_mu = centroid\n",
    "        point.update_mu(my_mu)\n",
    "    # MU == list of the Centroids\n",
    "    # Data == is our data\n",
    "    # We need to mark every datapoint as belonging to the centroid nearest to them. \n",
    "    \n",
    "    # Ideas of implementation\n",
    "#         - Centroids would be keys, and the clusters would be the values\n",
    "#         - Each cluster would be a list of all of the points in that cluster\n",
    "    return data \n",
    "\n",
    "def euclidean_dist(point_a, point_b):\n",
    "    return np.sqrt(np.power(point_a.x - point_b.x, 2) + np.power(point_a.y - point_b.y, 2))"
   ]
  },
  {
   "cell_type": "markdown",
   "metadata": {},
   "source": [
    "Q2. Implement the function `recompute_centroids` that returns the centroids given a set of input clusters. Hint: you need to calculate the mean for each cluster."
   ]
  },
  {
   "cell_type": "code",
   "execution_count": 6,
   "metadata": {},
   "outputs": [],
   "source": [
    "def recompute_centroids(clusters):\n",
    "    # your code goes here\n",
    "    dict = {}\n",
    "    new_mus = []\n",
    "    for point in clusters:\n",
    "        if (point.mu.x, point.mu.y) not in dict:\n",
    "            dict[(point.mu.x, point.mu.y)] = [point]\n",
    "        else:\n",
    "            dict[(point.mu.x, point.mu.y)].append(point)\n",
    "            \n",
    "    for key in dict.keys():\n",
    "        mu_x = 0\n",
    "        mu_y = 0\n",
    "        for val in dict[key]:\n",
    "            mu_x += val.x\n",
    "            mu_y += val.y\n",
    "        mu_x /= len(dict[key])\n",
    "        mu_y /= len(dict[key])\n",
    "        new_mu = data_point(mu_x, mu_y)\n",
    "        new_mus.append(new_mu)\n",
    "    return new_mus"
   ]
  },
  {
   "cell_type": "markdown",
   "metadata": {},
   "source": [
    "Q3. Implement the function `check_convergence` that checks if the termination condition of k means algorithm has reached, i.e. the previous centroids are the same as the new centroids. "
   ]
  },
  {
   "cell_type": "code",
   "execution_count": 7,
   "metadata": {},
   "outputs": [],
   "source": [
    "def check_convergence(mu, previous_mu):\n",
    "    if mu is None or previous_mu is None:\n",
    "        return False\n",
    "    elif mu == previous_mu:\n",
    "        return True\n",
    "    return False\n",
    "\n",
    "def check_clusters(clusters):\n",
    "    for point in clusters:\n",
    "        if not check_convergence(point.mu, point.prev_mu):\n",
    "            return False\n",
    "    return True"
   ]
  },
  {
   "cell_type": "markdown",
   "metadata": {},
   "source": [
    "Q4. Implement the function `k_means_clustering` that returns k clusters along with their centroids given the input dataset and the desired number of clusters (`k`)."
   ]
  },
  {
   "cell_type": "code",
   "execution_count": 8,
   "metadata": {},
   "outputs": [],
   "source": [
    "def k_means_clustering(data, k):\n",
    "    \n",
    "    data_points = []\n",
    "    for point in data:\n",
    "        new_point = data_point(point[0], point[1])\n",
    "        data_points.append(new_point)\n",
    "    \n",
    "    # Cluster stores all of the data points\n",
    "    clusters = data_points\n",
    "    # MU is a list of centroids\n",
    "    mu = get_mus(clusters, k)\n",
    "    \n",
    "    # While the clusters have not conformed, keep generating new clusters/centroids\n",
    "    while not check_clusters(clusters):\n",
    "        clusters = generate_clusters(clusters, mu)\n",
    "        mu = recompute_centroids(clusters)\n",
    "\n",
    "    dict = {}\n",
    "    for point in clusters:\n",
    "        if (point.mu.x, point.mu.y) not in dict:\n",
    "            dict[(point.mu.x, point.mu.y)] = [[point.x, point.y]]\n",
    "        else:\n",
    "            dict[(point.mu.x, point.mu.y)].append([point.x, point.y])\n",
    "    return dict\n",
    "\n",
    "# A data structure to help keep track of the needed info. \n",
    "class data_point:\n",
    "    \n",
    "    def __init__(self, x, y):\n",
    "        #print(x, y)\n",
    "        self.x = x\n",
    "        self.y = y\n",
    "        self.mu = None\n",
    "        self.prev_mu = None\n",
    "    \n",
    "    def update_mu(self, new_mu):\n",
    "        self.prev_mu = self.mu\n",
    "        self.mu = new_mu\n",
    "        \n",
    "    def __str__(self):\n",
    "        return \"x: {}, y: {}\".format(self.x, self.y) \n",
    "    \n",
    "    def __eq__(self, obj):\n",
    "        return isinstance(obj, data_point) and obj.x == self.x and obj.y == self.y\n",
    "    \n",
    "def get_mus(clusters, k):\n",
    "    mu = []\n",
    "    for i in range(k):\n",
    "        rand = random.randrange(len(clusters))\n",
    "        mu.append(clusters[rand])\n",
    "        \n",
    "    return mu\n"
   ]
  },
  {
   "cell_type": "markdown",
   "metadata": {},
   "source": [
    "Q5. Cluster the data using `k_means_clustering` with `k = 5`. Display the clusters using `plt.scatter`, make sure to mark different clusters with a different color. Also calculate the cohesion and separation for the resulting clustering."
   ]
  },
  {
   "cell_type": "code",
   "execution_count": 13,
   "metadata": {
    "scrolled": true
   },
   "outputs": [
    {
     "data": {
      "image/png": "[encoded data removed]",
      "text/plain": [
       "<Figure size 432x288 with 1 Axes>"
      ]
     },
     "metadata": {
      "needs_background": "light"
     },
     "output_type": "display_data"
    }
   ],
   "source": [
    "# your code goes here\n",
    "def euclidean_dist2(lst1, lst2):\n",
    "    #print(lst1, lst2)\n",
    "    return np.sqrt(np.power(lst1[0] - lst2[0], 2) + np.power(lst1[1] - lst2[1], 2))\n",
    "# We need to make a scatter plot for our clusters using a different color for each different cluster. \n",
    "# We need to calc the Cohesion and Separation \n",
    "clusters = k_means_clustering(data, 5)\n",
    "\n",
    "for centroid in clusters.keys():\n",
    "    cluster = clusters[centroid]\n",
    "    npy_data = np.asarray(cluster)\n",
    "    plt.scatter(npy_data[:,0], npy_data[:,1], marker='.')\n",
    "plt.show()\n"
   ]
  },
  {
   "cell_type": "markdown",
   "metadata": {},
   "source": [
    "Q6. Find the best k for this dataset by plotting SSE vs k for k = 1-10. Based on your plot, which value of k would you choose and why?"
   ]
  },
  {
   "cell_type": "code",
   "execution_count": 17,
   "metadata": {},
   "outputs": [
    {
     "data": {
      "image/png": "[encoded data removed]",
      "text/plain": [
       "<Figure size 432x288 with 1 Axes>"
      ]
     },
     "metadata": {
      "needs_background": "light"
     },
     "output_type": "display_data"
    }
   ],
   "source": [
    "# your code goes here\n",
    "import matplotlib.pyplot as plt\n",
    "\n",
    "SSE_list = []\n",
    "for i in range(1, 11):\n",
    "    copy_data = data\n",
    "    clusters = k_means_clustering(copy_data, i)\n",
    "    SSE = 0\n",
    "    for centroid in list(clusters.keys()):\n",
    "        SSE_Cluster = 0\n",
    "        for point in clusters.get(centroid):\n",
    "            SSE_Cluster += np.power(euclidean_dist2(point, centroid), 2)\n",
    "        SSE += SSE_Cluster\n",
    "    SSE_list.append(SSE)\n",
    "    \n",
    "plt.plot(SSE_list)\n",
    "plt.show()"
   ]
  },
  {
   "cell_type": "markdown",
   "metadata": {},
   "source": [
    "## Part 2: Implement DBSCAN\n",
    "\n",
    "For this part you'll be implementing DBSCAN, one of the most popular density based clustering algorithms."
   ]
  },
  {
   "cell_type": "code",
   "execution_count": 18,
   "metadata": {},
   "outputs": [
    {
     "name": "stdout",
     "output_type": "stream",
     "text": [
      "<class 'numpy.ndarray'>\n"
     ]
    },
    {
     "data": {
      "image/png": "[encoded data removed]",
      "text/plain": [
       "<Figure size 432x288 with 1 Axes>"
      ]
     },
     "metadata": {
      "needs_background": "light"
     },
     "output_type": "display_data"
    }
   ],
   "source": [
    "# Get data from file\n",
    "data = np.genfromtxt(\"data_dbscan.csv\", delimiter=\",\")\n",
    "plt.scatter(data[:,0],data[:,1], marker='.')\n",
    "print(type(data))"
   ]
  },
  {
   "cell_type": "markdown",
   "metadata": {},
   "source": [
    "Q7. First, run your `k_means_clustering` with `k = 2` on this dataset and display the output clusters - make sure that different clusters are marked with different colors. What do you observe? (Answer as a comment.)"
   ]
  },
  {
   "cell_type": "code",
   "execution_count": 19,
   "metadata": {},
   "outputs": [
    {
     "data": {
      "image/png": "[encoded data removed]",
      "text/plain": [
       "<Figure size 432x288 with 1 Axes>"
      ]
     },
     "metadata": {
      "needs_background": "light"
     },
     "output_type": "display_data"
    }
   ],
   "source": [
    "# your code goes here\n",
    "\n",
    "clusters = k_means_clustering(data, 2)\n",
    "\n",
    "for centroid in clusters.keys():\n",
    "    cluster = clusters[centroid]\n",
    "    npy_data = np.asarray(cluster)\n",
    "    plt.scatter(npy_data[:,0], npy_data[:,1], marker='.')\n",
    "plt.show()"
   ]
  },
  {
   "cell_type": "markdown",
   "metadata": {},
   "source": [
    "Q8. Implement the DBSCAN algorithm and display the output clusters. \n",
    "\n",
    "There is a  pseudocode version of the DBSCAN algorithm on [Wikipedia](https://en.wikipedia.org/wiki/DBSCAN#Algorithm) that you are welcome to follow. If you are not familiar with the 'continue' statement in coding, then please take a look at [this](https://www.tutorialspoint.com/python/python_loop_control.htm). Also note that a set is actually not the best data structure to use when implementing this in Python. Just use this pseudocode as scaffolding - you may need to make specific implementation changes to it! \n",
    "\n",
    "Run your DBSCAN clustering on the data with eps = 0.28 and minPts = 8. Plot the resulting clusters with each cluster, and noise, indicated by different colors. "
   ]
  },
  {
   "cell_type": "code",
   "execution_count": 20,
   "metadata": {},
   "outputs": [
    {
     "data": {
      "image/png": "[encoded data removed]",
      "text/plain": [
       "<Figure size 432x288 with 1 Axes>"
      ]
     },
     "metadata": {
      "needs_background": "light"
     },
     "output_type": "display_data"
    }
   ],
   "source": [
    "# your code goes here\n",
    "\n",
    "# Just look at the Wiki\n",
    "def DBSCAN(data, eps, minPts) :\n",
    "    DB = []\n",
    "    for point in data: \n",
    "        new_point = DB_Point(point[0], point[1])\n",
    "        DB.append(new_point)\n",
    "        \n",
    "    C = 0                                                 \n",
    "    for P in DB :\n",
    "        if not P.label is None:\n",
    "            continue              \n",
    "        N = RangeQuery(DB, P, eps)    \n",
    "        if len(N) + 1 < minPts:                         \n",
    "            P.label = -1                               \n",
    "            continue\n",
    "        \n",
    "        C = C + 1                                          \n",
    "        P.label = C\n",
    "        S = N \n",
    "        numLoops = 0\n",
    "        new_neighbors = S\n",
    "        while len(new_neighbors) != 0:\n",
    "            S = new_neighbors\n",
    "            new_neighbors = check_all_neighbors(S, C, DB, eps, minPts)\n",
    "            \n",
    "    DB_dict = {}\n",
    "    for point in DB:\n",
    "        if point.label not in DB_dict:\n",
    "            DB_dict[point.label] = [[point.x, point.y]]\n",
    "        else:\n",
    "            DB_dict[point.label].append([point.x, point.y])\n",
    "    return DB_dict\n",
    "\n",
    "def check_all_neighbors(S, C, DB, eps, minPts): \n",
    "    new_neighbors = []\n",
    "    numLoops = 0\n",
    "    for Q in S:\n",
    "        numLoops += 1\n",
    "        if Q.label == -1:\n",
    "            Q.label = C          \n",
    "        if not Q.label is None:\n",
    "            continue          \n",
    "        Q.label = C                                   \n",
    "        N = RangeQuery(DB, Q, eps)\n",
    "        if len(N) + 1 >= minPts:                         \n",
    "            difference = list(set(N).difference(set(S)))\n",
    "            S = Union(S, N)\n",
    "            for neighbor in difference:\n",
    "                new_neighbors.append(neighbor)\n",
    "    return new_neighbors\n",
    "\n",
    "class DB_Point:    \n",
    "    def __init__(self, x, y):\n",
    "        self.x = x\n",
    "        self.y = y\n",
    "        self.label = None\n",
    "        \n",
    "    def __eq__(self, obj):\n",
    "        return isinstance(obj, data_point) and obj.x == self.x and obj.y == self.y\n",
    "    \n",
    "    def __hash__(self):\n",
    "        return hash(self.x) + hash(self.y)\n",
    "    \n",
    "    def __str__(self):\n",
    "        return \"x: {}, y: {}\".format(self.x, self.y) \n",
    "        \n",
    "def RangeQuery(DB, P, eps) :\n",
    "    Neighbors = []\n",
    "    for point in DB : \n",
    "        distance = euclidean_dist(P, point)\n",
    "        if distance <= eps and distance != 0:                   \n",
    "            Neighbors.append(point)                    \n",
    "    return Neighbors\n",
    "\n",
    "def euclidean_dist(point_a, point_b):\n",
    "    return np.sqrt(np.power(point_a.x - point_b.x, 2) + np.power(point_a.y - point_b.y, 2))\n",
    "\n",
    "def Union(lst1, lst2):\n",
    "    final_list = list(set(lst1) | set(lst2)) \n",
    "    return final_list \n",
    "\n",
    "DB = DBSCAN(data, .28, 8)\n",
    "\n",
    "for label in DB.keys():\n",
    "    cluster = DB[label]\n",
    "    npy_data = np.asarray(cluster)\n",
    "    plt.scatter(npy_data[:,0], npy_data[:,1], marker='.')\n",
    "plt.show()\n"
   ]
  },
  {
   "cell_type": "markdown",
   "metadata": {},
   "source": [
    "## Part 3: Clustering with scikit-learn and scipy"
   ]
  },
  {
   "cell_type": "markdown",
   "metadata": {},
   "source": [
    "#### Data\n",
    "\n",
    "For this part of the assigment you'll be working with the Epileptic Seizure Recognition Data Set developed at Rochester Institute of Technology. In this data set each row is a sample of the EEG recording at a different point in time. The dataset contains 179 columns, the first 178 are the EEG features while the last column represents the label y {1, 2, 3, 4, 5}. All subjects falling in classes 2, 3, 4, and 5 are subjects who did not have epileptic seizure. Only subjects in class 1 have an epileptic seizure. The class labels will not be used for clustering (which is an *unsupervised* task!) - they will just be used for plotting the data. The only change that was made to the original dataset was removing the first column, which contained the row indexes. You can find additional information about the dataset [here](https://archive.ics.uci.edu/ml/datasets/Epileptic+Seizure+Recognition)."
   ]
  },
  {
   "cell_type": "code",
   "execution_count": 67,
   "metadata": {},
   "outputs": [
    {
     "name": "stdout",
     "output_type": "stream",
     "text": [
      "(11500, 179)\n"
     ]
    },
    {
     "data": {
      "text/html": [
       "<div>\n",
       "<style scoped>\n",
       "    .dataframe tbody tr th:only-of-type {\n",
       "        vertical-align: middle;\n",
       "    }\n",
       "\n",
       "    .dataframe tbody tr th {\n",
       "        vertical-align: top;\n",
       "    }\n",
       "\n",
       "    .dataframe thead th {\n",
       "        text-align: right;\n",
       "    }\n",
       "</style>\n",
       "<table border=\"1\" class=\"dataframe\">\n",
       "  <thead>\n",
       "    <tr style=\"text-align: right;\">\n",
       "      <th></th>\n",
       "      <th>X1</th>\n",
       "      <th>X2</th>\n",
       "      <th>X3</th>\n",
       "      <th>X4</th>\n",
       "      <th>X5</th>\n",
       "      <th>X6</th>\n",
       "      <th>X7</th>\n",
       "      <th>X8</th>\n",
       "      <th>X9</th>\n",
       "      <th>X10</th>\n",
       "      <th>...</th>\n",
       "      <th>X170</th>\n",
       "      <th>X171</th>\n",
       "      <th>X172</th>\n",
       "      <th>X173</th>\n",
       "      <th>X174</th>\n",
       "      <th>X175</th>\n",
       "      <th>X176</th>\n",
       "      <th>X177</th>\n",
       "      <th>X178</th>\n",
       "      <th>y</th>\n",
       "    </tr>\n",
       "  </thead>\n",
       "  <tbody>\n",
       "    <tr>\n",
       "      <th>0</th>\n",
       "      <td>135</td>\n",
       "      <td>190</td>\n",
       "      <td>229</td>\n",
       "      <td>223</td>\n",
       "      <td>192</td>\n",
       "      <td>125</td>\n",
       "      <td>55</td>\n",
       "      <td>-9</td>\n",
       "      <td>-33</td>\n",
       "      <td>-38</td>\n",
       "      <td>...</td>\n",
       "      <td>-17</td>\n",
       "      <td>-15</td>\n",
       "      <td>-31</td>\n",
       "      <td>-77</td>\n",
       "      <td>-103</td>\n",
       "      <td>-127</td>\n",
       "      <td>-116</td>\n",
       "      <td>-83</td>\n",
       "      <td>-51</td>\n",
       "      <td>4</td>\n",
       "    </tr>\n",
       "    <tr>\n",
       "      <th>1</th>\n",
       "      <td>386</td>\n",
       "      <td>382</td>\n",
       "      <td>356</td>\n",
       "      <td>331</td>\n",
       "      <td>320</td>\n",
       "      <td>315</td>\n",
       "      <td>307</td>\n",
       "      <td>272</td>\n",
       "      <td>244</td>\n",
       "      <td>232</td>\n",
       "      <td>...</td>\n",
       "      <td>164</td>\n",
       "      <td>150</td>\n",
       "      <td>146</td>\n",
       "      <td>152</td>\n",
       "      <td>157</td>\n",
       "      <td>156</td>\n",
       "      <td>154</td>\n",
       "      <td>143</td>\n",
       "      <td>129</td>\n",
       "      <td>1</td>\n",
       "    </tr>\n",
       "    <tr>\n",
       "      <th>2</th>\n",
       "      <td>-32</td>\n",
       "      <td>-39</td>\n",
       "      <td>-47</td>\n",
       "      <td>-37</td>\n",
       "      <td>-32</td>\n",
       "      <td>-36</td>\n",
       "      <td>-57</td>\n",
       "      <td>-73</td>\n",
       "      <td>-85</td>\n",
       "      <td>-94</td>\n",
       "      <td>...</td>\n",
       "      <td>57</td>\n",
       "      <td>64</td>\n",
       "      <td>48</td>\n",
       "      <td>19</td>\n",
       "      <td>-12</td>\n",
       "      <td>-30</td>\n",
       "      <td>-35</td>\n",
       "      <td>-35</td>\n",
       "      <td>-36</td>\n",
       "      <td>5</td>\n",
       "    </tr>\n",
       "    <tr>\n",
       "      <th>3</th>\n",
       "      <td>-105</td>\n",
       "      <td>-101</td>\n",
       "      <td>-96</td>\n",
       "      <td>-92</td>\n",
       "      <td>-89</td>\n",
       "      <td>-95</td>\n",
       "      <td>-102</td>\n",
       "      <td>-100</td>\n",
       "      <td>-87</td>\n",
       "      <td>-79</td>\n",
       "      <td>...</td>\n",
       "      <td>-82</td>\n",
       "      <td>-81</td>\n",
       "      <td>-80</td>\n",
       "      <td>-77</td>\n",
       "      <td>-85</td>\n",
       "      <td>-77</td>\n",
       "      <td>-72</td>\n",
       "      <td>-69</td>\n",
       "      <td>-65</td>\n",
       "      <td>5</td>\n",
       "    </tr>\n",
       "    <tr>\n",
       "      <th>4</th>\n",
       "      <td>-9</td>\n",
       "      <td>-65</td>\n",
       "      <td>-98</td>\n",
       "      <td>-102</td>\n",
       "      <td>-78</td>\n",
       "      <td>-48</td>\n",
       "      <td>-16</td>\n",
       "      <td>0</td>\n",
       "      <td>-21</td>\n",
       "      <td>-59</td>\n",
       "      <td>...</td>\n",
       "      <td>4</td>\n",
       "      <td>2</td>\n",
       "      <td>-12</td>\n",
       "      <td>-32</td>\n",
       "      <td>-41</td>\n",
       "      <td>-65</td>\n",
       "      <td>-83</td>\n",
       "      <td>-89</td>\n",
       "      <td>-73</td>\n",
       "      <td>5</td>\n",
       "    </tr>\n",
       "  </tbody>\n",
       "</table>\n",
       "<p>5 rows × 179 columns</p>\n",
       "</div>"
      ],
      "text/plain": [
       "    X1   X2   X3   X4   X5   X6   X7   X8   X9  X10  ...  X170  X171  X172  \\\n",
       "0  135  190  229  223  192  125   55   -9  -33  -38  ...   -17   -15   -31   \n",
       "1  386  382  356  331  320  315  307  272  244  232  ...   164   150   146   \n",
       "2  -32  -39  -47  -37  -32  -36  -57  -73  -85  -94  ...    57    64    48   \n",
       "3 -105 -101  -96  -92  -89  -95 -102 -100  -87  -79  ...   -82   -81   -80   \n",
       "4   -9  -65  -98 -102  -78  -48  -16    0  -21  -59  ...     4     2   -12   \n",
       "\n",
       "   X173  X174  X175  X176  X177  X178  y  \n",
       "0   -77  -103  -127  -116   -83   -51  4  \n",
       "1   152   157   156   154   143   129  1  \n",
       "2    19   -12   -30   -35   -35   -36  5  \n",
       "3   -77   -85   -77   -72   -69   -65  5  \n",
       "4   -32   -41   -65   -83   -89   -73  5  \n",
       "\n",
       "[5 rows x 179 columns]"
      ]
     },
     "execution_count": 67,
     "metadata": {},
     "output_type": "execute_result"
    }
   ],
   "source": [
    "# Reading the Epileptic Seizure Data Set\n",
    "dataset = pd.read_csv(\"data_seizure_edited.csv\", header = 0)\n",
    "print(dataset.shape)\n",
    "\n",
    "#split the dataset into features and labels\n",
    "labels = dataset['y']\n",
    "data = dataset.drop('y', axis = 1)\n",
    "\n",
    "dataset.head()"
   ]
  },
  {
   "cell_type": "markdown",
   "metadata": {},
   "source": [
    "#### Data scaling & dimensionality reduction with PCA\n",
    "Both K-means and DBSCAN break down in high dimensions, as distance (and thus density) becomes less meaningful in high dimensions. So, before we run either of these clustering algorithms, we want to reduce the dimensionality of our dataset. Recall that it is critical to scale your data prior to running PCA. "
   ]
  },
  {
   "cell_type": "markdown",
   "metadata": {},
   "source": [
    "Q9. \n",
    "* Use `sklearn.preprocessing.StandardScaler` to standardize the dataset’s features (mean = 0 and variance = 1). Only standardize the the features, not the class labels! This will be required for running the principal component analysis (PCA) dimensionality reduction. Note that `StandardScaler` returns a numpy array.\n",
    "* Use `sklearn.decomposition.PCA` to perform PCA on the data.\n",
    "* Set `n_components` to 0.95 and `svd_solver` to 'full', so that the PCA will reduce the number of dimensions to however many are necessary to retain 95% of the variance. \n",
    "* Use `fit_transform` to perform the dimensionality reduction. \n",
    "* Note that `fit_transform` returns a numpy array. Put your transformed data back into a Pandas DataFrame by doing something like this (subsitute your variable names): `data = DataFrame(pca_data)`\n",
    "* Show the head of the resulting DataFrame (and make sure the dimensionality has actually been reduced)."
   ]
  },
  {
   "cell_type": "code",
   "execution_count": 68,
   "metadata": {},
   "outputs": [
    {
     "data": {
      "text/html": [
       "<div>\n",
       "<style scoped>\n",
       "    .dataframe tbody tr th:only-of-type {\n",
       "        vertical-align: middle;\n",
       "    }\n",
       "\n",
       "    .dataframe tbody tr th {\n",
       "        vertical-align: top;\n",
       "    }\n",
       "\n",
       "    .dataframe thead th {\n",
       "        text-align: right;\n",
       "    }\n",
       "</style>\n",
       "<table border=\"1\" class=\"dataframe\">\n",
       "  <thead>\n",
       "    <tr style=\"text-align: right;\">\n",
       "      <th></th>\n",
       "      <th>0</th>\n",
       "      <th>1</th>\n",
       "      <th>2</th>\n",
       "      <th>3</th>\n",
       "      <th>4</th>\n",
       "      <th>5</th>\n",
       "      <th>6</th>\n",
       "      <th>7</th>\n",
       "      <th>8</th>\n",
       "      <th>9</th>\n",
       "      <th>...</th>\n",
       "      <th>29</th>\n",
       "      <th>30</th>\n",
       "      <th>31</th>\n",
       "      <th>32</th>\n",
       "      <th>33</th>\n",
       "      <th>34</th>\n",
       "      <th>35</th>\n",
       "      <th>36</th>\n",
       "      <th>37</th>\n",
       "      <th>38</th>\n",
       "    </tr>\n",
       "  </thead>\n",
       "  <tbody>\n",
       "    <tr>\n",
       "      <th>0</th>\n",
       "      <td>-91.353449</td>\n",
       "      <td>-184.251674</td>\n",
       "      <td>115.333455</td>\n",
       "      <td>15.324265</td>\n",
       "      <td>-0.094027</td>\n",
       "      <td>-203.062471</td>\n",
       "      <td>50.461968</td>\n",
       "      <td>89.583064</td>\n",
       "      <td>432.788869</td>\n",
       "      <td>-224.705594</td>\n",
       "      <td>...</td>\n",
       "      <td>102.641563</td>\n",
       "      <td>-397.201910</td>\n",
       "      <td>140.222117</td>\n",
       "      <td>-58.407019</td>\n",
       "      <td>-34.945802</td>\n",
       "      <td>-36.467722</td>\n",
       "      <td>-164.126621</td>\n",
       "      <td>-59.010773</td>\n",
       "      <td>35.158403</td>\n",
       "      <td>-17.571799</td>\n",
       "    </tr>\n",
       "    <tr>\n",
       "      <th>1</th>\n",
       "      <td>-313.252394</td>\n",
       "      <td>-474.852194</td>\n",
       "      <td>966.017585</td>\n",
       "      <td>1340.554947</td>\n",
       "      <td>768.241774</td>\n",
       "      <td>673.039824</td>\n",
       "      <td>626.988942</td>\n",
       "      <td>-532.987045</td>\n",
       "      <td>763.130677</td>\n",
       "      <td>2392.418687</td>\n",
       "      <td>...</td>\n",
       "      <td>-1342.818345</td>\n",
       "      <td>-1215.190476</td>\n",
       "      <td>502.576192</td>\n",
       "      <td>-665.210005</td>\n",
       "      <td>-313.878842</td>\n",
       "      <td>348.897111</td>\n",
       "      <td>449.904085</td>\n",
       "      <td>-34.652927</td>\n",
       "      <td>147.062877</td>\n",
       "      <td>-661.123272</td>\n",
       "    </tr>\n",
       "    <tr>\n",
       "      <th>2</th>\n",
       "      <td>91.074911</td>\n",
       "      <td>-42.218007</td>\n",
       "      <td>121.638616</td>\n",
       "      <td>-137.289331</td>\n",
       "      <td>264.927267</td>\n",
       "      <td>-198.028103</td>\n",
       "      <td>-180.823429</td>\n",
       "      <td>-259.481257</td>\n",
       "      <td>-70.528763</td>\n",
       "      <td>-219.791160</td>\n",
       "      <td>...</td>\n",
       "      <td>-8.514575</td>\n",
       "      <td>-13.082225</td>\n",
       "      <td>174.191262</td>\n",
       "      <td>80.324108</td>\n",
       "      <td>93.600556</td>\n",
       "      <td>70.844429</td>\n",
       "      <td>-83.621680</td>\n",
       "      <td>-3.505694</td>\n",
       "      <td>-34.902464</td>\n",
       "      <td>7.177979</td>\n",
       "    </tr>\n",
       "    <tr>\n",
       "      <th>3</th>\n",
       "      <td>-10.594470</td>\n",
       "      <td>48.420698</td>\n",
       "      <td>-57.311610</td>\n",
       "      <td>-69.607339</td>\n",
       "      <td>264.583144</td>\n",
       "      <td>-447.094813</td>\n",
       "      <td>-185.286865</td>\n",
       "      <td>-511.065285</td>\n",
       "      <td>-17.381031</td>\n",
       "      <td>-263.243626</td>\n",
       "      <td>...</td>\n",
       "      <td>-51.126486</td>\n",
       "      <td>22.870911</td>\n",
       "      <td>-5.909572</td>\n",
       "      <td>-5.053685</td>\n",
       "      <td>32.536039</td>\n",
       "      <td>-25.724567</td>\n",
       "      <td>8.975873</td>\n",
       "      <td>17.735898</td>\n",
       "      <td>29.849065</td>\n",
       "      <td>25.947104</td>\n",
       "    </tr>\n",
       "    <tr>\n",
       "      <th>4</th>\n",
       "      <td>-35.725708</td>\n",
       "      <td>16.513221</td>\n",
       "      <td>86.006956</td>\n",
       "      <td>-79.153082</td>\n",
       "      <td>16.028203</td>\n",
       "      <td>-51.724671</td>\n",
       "      <td>-49.597476</td>\n",
       "      <td>71.224870</td>\n",
       "      <td>-17.036229</td>\n",
       "      <td>77.779669</td>\n",
       "      <td>...</td>\n",
       "      <td>-57.655315</td>\n",
       "      <td>-52.799730</td>\n",
       "      <td>-22.054682</td>\n",
       "      <td>-52.350303</td>\n",
       "      <td>-28.682328</td>\n",
       "      <td>-22.074343</td>\n",
       "      <td>47.261192</td>\n",
       "      <td>-141.962309</td>\n",
       "      <td>115.023997</td>\n",
       "      <td>-10.788121</td>\n",
       "    </tr>\n",
       "  </tbody>\n",
       "</table>\n",
       "<p>5 rows × 39 columns</p>\n",
       "</div>"
      ],
      "text/plain": [
       "           0           1           2            3           4           5   \\\n",
       "0  -91.353449 -184.251674  115.333455    15.324265   -0.094027 -203.062471   \n",
       "1 -313.252394 -474.852194  966.017585  1340.554947  768.241774  673.039824   \n",
       "2   91.074911  -42.218007  121.638616  -137.289331  264.927267 -198.028103   \n",
       "3  -10.594470   48.420698  -57.311610   -69.607339  264.583144 -447.094813   \n",
       "4  -35.725708   16.513221   86.006956   -79.153082   16.028203  -51.724671   \n",
       "\n",
       "           6           7           8            9   ...           29  \\\n",
       "0   50.461968   89.583064  432.788869  -224.705594  ...   102.641563   \n",
       "1  626.988942 -532.987045  763.130677  2392.418687  ... -1342.818345   \n",
       "2 -180.823429 -259.481257  -70.528763  -219.791160  ...    -8.514575   \n",
       "3 -185.286865 -511.065285  -17.381031  -263.243626  ...   -51.126486   \n",
       "4  -49.597476   71.224870  -17.036229    77.779669  ...   -57.655315   \n",
       "\n",
       "            30          31          32          33          34          35  \\\n",
       "0  -397.201910  140.222117  -58.407019  -34.945802  -36.467722 -164.126621   \n",
       "1 -1215.190476  502.576192 -665.210005 -313.878842  348.897111  449.904085   \n",
       "2   -13.082225  174.191262   80.324108   93.600556   70.844429  -83.621680   \n",
       "3    22.870911   -5.909572   -5.053685   32.536039  -25.724567    8.975873   \n",
       "4   -52.799730  -22.054682  -52.350303  -28.682328  -22.074343   47.261192   \n",
       "\n",
       "           36          37          38  \n",
       "0  -59.010773   35.158403  -17.571799  \n",
       "1  -34.652927  147.062877 -661.123272  \n",
       "2   -3.505694  -34.902464    7.177979  \n",
       "3   17.735898   29.849065   25.947104  \n",
       "4 -141.962309  115.023997  -10.788121  \n",
       "\n",
       "[5 rows x 39 columns]"
      ]
     },
     "execution_count": 68,
     "metadata": {},
     "output_type": "execute_result"
    }
   ],
   "source": [
    "# your code goes here\n",
    "\n",
    "scaler = StandardScaler()\n",
    "scaler.fit(data)\n",
    "StandardScaler()\n",
    "\n",
    "pca = PCA(n_components=0.95, svd_solver='full')\n",
    "pca.fit(data)\n",
    "PCA(n_components=0.95, svd_solver='full')\n",
    "pcaData = pca.fit_transform(data)\n",
    "reducedData = pd.DataFrame(pcaData)\n",
    "reducedData.head()\n"
   ]
  },
  {
   "cell_type": "markdown",
   "metadata": {},
   "source": [
    "Q10. You are provided code here to plot the data. This code randomly samples 300 rows from the entire dataset, then uses `sklearn.manifold.MDS` to project the data onto 2 dimensions, and plots it on a scatter plot. (Manifold Learning is another form of dimensionality reduction. It essentially \"unrolls\" the data onto fewer dimensions. For a simple, visual example, see the first image [here](https://www.researchgate.net/figure/Dimensionality-reduction-effect-over-a-Swiss-roll-manifold-Resultant-embedded-data-is-an_fig1_286926602).) \n",
    "\n",
    "The points will be marked with appropriate colors based on their labels. This is the only times labels will be used. (This plot will change each time you re-run this cell due to the random selection of 300 data points. This downsampling is to save time.)\n",
    "\n",
    "* Pass your dataset (that has been reduced in dimensions from Q9) and the labels into this scatter function. Verify that the plot looks like 2 clusters: an inner cluster (non-seizure patients, labels 2-5, will be blue/green/yellow), and an outer cluster (seizure patients, label 1, will be purple)."
   ]
  },
  {
   "cell_type": "code",
   "execution_count": 69,
   "metadata": {},
   "outputs": [
    {
     "data": {
      "image/png": "[encoded data removed]",
      "text/plain": [
       "<Figure size 432x288 with 1 Axes>"
      ]
     },
     "metadata": {
      "needs_background": "light"
     },
     "output_type": "display_data"
    }
   ],
   "source": [
    "# do not change this plotting function!\n",
    "def scatter(data, labels, numPoints = 300):\n",
    "\n",
    "    numEntries = data.shape[0]\n",
    "    start = random.randint(0, numEntries - numPoints)\n",
    "    end = start + numPoints\n",
    "    data = data.iloc[start:end, :]\n",
    "    labels = labels.iloc[start:end]\n",
    "    \n",
    "    mds = MDS(n_components=2)\n",
    "    mds_data = mds.fit_transform(data.iloc[:, :-1])\n",
    "    plt.scatter(mds_data[:, 0], mds_data[:, 1], c=labels, s=50)\n",
    "    plt.show()\n",
    "\n",
    "# your code goes here\n",
    "scatter(reducedData, labels)"
   ]
  },
  {
   "cell_type": "markdown",
   "metadata": {},
   "source": [
    "#### Clustering with DBSCAN"
   ]
  },
  {
   "cell_type": "markdown",
   "metadata": {},
   "source": [
    "Recall that for DBSCAN, we need to select an Eps and a MinPts. If we choose MinPts to be 4, then Eps can be selected by plotting the distance of every point to its 4th nearest neighbor and finding the \"bend\" in the graph. \n",
    "\n",
    "Q11. Find the optimal Eps for this dataset by plotting the distances of every point to its 4th nearest neighbor.\n",
    "* Use `sklearn.neighbors.NearestNeighbors` with `n_neighbors=4`. Call `fit` on your data.\n",
    "* Use the `kneighbors` method to find the distance of each point to its 4th nearest neighbor. Note that `kneighbors` returns two values. The first return value is a matrix of distances from each point to its k nearest neighbors. For example: \n",
    "\n",
    "Sklearn considers the distance from the point to itself as the closest neighbor (a distance of 0), then if the point is a distance of 2.5 away from its second nearest neighbor, a distance of 3.7 away from its third nearest neighbor, and a distance of 4.2 away from its fourth nearest neighbor, the row in the distance matrix for this point would look like: `[0, 2.5, 3.7, 4.2]`, indicating that 4.2 is the distance from this point to it's 4th nearest neighbor. \n",
    "\n",
    "* Plot the distance of every point to its 4th nearest neighbor. Be sure to sort the distances before you plot them. You can use `plt.plot(distances)` then `plt.show()` to plot them. \n",
    "* Use the plot to determine the best Eps for this dataset (just eyeball it)."
   ]
  },
  {
   "cell_type": "code",
   "execution_count": 73,
   "metadata": {},
   "outputs": [
    {
     "data": {
      "image/png": "[encoded data removed]",
      "text/plain": [
       "<Figure size 432x288 with 1 Axes>"
      ]
     },
     "metadata": {
      "needs_background": "light"
     },
     "output_type": "display_data"
    }
   ],
   "source": [
    "# your code goes here\n",
    "nearestNeighbors = NearestNeighbors(n_neighbors=4)\n",
    "nearestNeighbors.fit(reducedData)\n",
    "NearestNeighbors(n_neighbors=4)\n",
    "\n",
    "neigh_matrix = nearestNeighbors.kneighbors(reducedData)\n",
    "distNeigh = neigh_matrix[0]\n",
    "distances = distNeigh[:,3]\n",
    "sortedDist = np.sort(distances)\n",
    "plt.plot(sortedDist)\n",
    "plt.show()"
   ]
  },
  {
   "cell_type": "markdown",
   "metadata": {},
   "source": [
    "Q12. \n",
    "* Using MinPts=4 and Eps=the distance you determined from Q11, cluster the data using `sklearn.cluster.DBSCAN`. Call `fit_predict` on your data and store the return value (the predicted cluster label for each data point). Note that the returned type is a numpy array. \n",
    "* Use the provided `scatter` function (Q10) to plot the resulting clusters. You will need to convert the numpy array of predicted labels to a `Series` in order to pass it in to `scatter`."
   ]
  },
  {
   "cell_type": "code",
   "execution_count": null,
   "metadata": {},
   "outputs": [],
   "source": [
    "# your code goes here"
   ]
  },
  {
   "cell_type": "markdown",
   "metadata": {},
   "source": [
    "#### Clustering with K-means"
   ]
  },
  {
   "cell_type": "markdown",
   "metadata": {},
   "source": [
    "Q13. \n",
    "* Use `sklearn.cluster.KMeans` to cluster this data using K means. Try values of k from 2 to 5. You will need to call `fit_predict` on your data and store the return value (the predicted cluster label for each data point). Note that the returned type is a numpy array. \n",
    "* Use `sklearn.metrics.silhouette_score` to evaluate which is the best number of clusters for this dataset. Note that you will need to cast the numpy array to a Series in order to pass it in to `silhouette_score`.\n",
    "* Use the provided `scatter` function (Q10) to plot the clustering that resulted in the best shilhouette score."
   ]
  },
  {
   "cell_type": "code",
   "execution_count": null,
   "metadata": {},
   "outputs": [],
   "source": [
    "# your code goes here"
   ]
  },
  {
   "cell_type": "markdown",
   "metadata": {},
   "source": [
    "Q14. What do you observe about the results of DBSCAN vs the results of K-means? Answer as a comment."
   ]
  },
  {
   "cell_type": "code",
   "execution_count": null,
   "metadata": {},
   "outputs": [],
   "source": [
    "'''\n",
    "Your answer goes here.\n",
    "'''"
   ]
  },
  {
   "cell_type": "markdown",
   "metadata": {},
   "source": [
    "#### Hierarchical Clustering"
   ]
  },
  {
   "cell_type": "markdown",
   "metadata": {},
   "source": [
    "For hierarchical clustering (Q15 and Q16), you'll work with just a sample of 115 datapoints. (This is because hierarchical clustering is expensive in both time and space.) The function to downsample the data is provided here for you."
   ]
  },
  {
   "cell_type": "code",
   "execution_count": null,
   "metadata": {},
   "outputs": [],
   "source": [
    "# Do not change the code in this cell\n",
    "# stratified sampling of the data\n",
    "def downsample_data(data):\n",
    "    downData = None\n",
    "    downLabels = None\n",
    "\n",
    "    kfold = StratifiedKFold(n_splits = 100)\n",
    "    for throwAway_index, subsample_index in kfold.split(data, labels):\n",
    "        downData = data.iloc[subsample_index]\n",
    "        downLabels = labels.iloc[subsample_index]\n",
    "        break\n",
    "    \n",
    "    print(downData.shape)\n",
    "    return downData"
   ]
  },
  {
   "cell_type": "markdown",
   "metadata": {},
   "source": [
    "Q15. Use Scipy's hierarchical clustering (`scipy.cluster.hierarchy`) to cluster the data using different linkage methods. **Make sure you are using a down-sampled dataset by passing your dataset into the provided downsample_data() function.**\n",
    "\n",
    "* Try all of these linkage methods: `single`, `complete`, `average`, `centroid`, `ward`\n",
    "* Note that the return value of the clustering is a linkage matrix (a cophenetic distance matrix)\n",
    "\n",
    "* Calculate the CPCC of each linkage method to determine which method worked best. Use `scipy.cluster.hierarchy.cophenet` for this. You'll pass in the linkage matrix from the clustering, and a proximity matrix that contains the actual distances between each point, which you can get by using `scipy.spatial.distance.pdist`. "
   ]
  },
  {
   "cell_type": "code",
   "execution_count": null,
   "metadata": {},
   "outputs": [],
   "source": [
    "# Make sure to pass your dataset into downsample_data() \n",
    "# and use the resulting smaller dataset for hierachical clustering\n",
    "\n",
    "# Pass the down-sampled dataset into pdist to get your proximity matrix for calculating CPCC\n",
    "proximity_matrix = pdist(sampled_dataset_goes_here)\n",
    "\n",
    "# the rest of your code goes here"
   ]
  },
  {
   "cell_type": "markdown",
   "metadata": {},
   "source": [
    "Q16. Using the best linkage method that you found in Q15, plot the dendrogram with `scipy.cluster.hierarchy.dendrogram`. "
   ]
  },
  {
   "cell_type": "code",
   "execution_count": null,
   "metadata": {},
   "outputs": [],
   "source": [
    "# your code goes here"
   ]
  },
  {
   "cell_type": "markdown",
   "metadata": {},
   "source": [
    "#### Anomaly Detection (AD)\n",
    "\n",
    "Anomaly detection (AD) algorithms can be broadly classified into 3 classes:\n",
    "- Supervised AD (labels available for both normal data and anomalies)\n",
    "- Semi-supervised AD, also called Novelty Detection (only normal data is available to train on)\n",
    "- Unsupervised AD, also called Outlier Detection (no labels are provided)\n",
    "\n",
    "In this part you'll experiment with 4 datasets and compare 4 different outlier detection (Unsupervised AD) methods."
   ]
  },
  {
   "cell_type": "code",
   "execution_count": 14,
   "metadata": {},
   "outputs": [
    {
     "name": "stdout",
     "output_type": "stream",
     "text": [
      "data1.csv (445, 2)\n",
      "data2.csv (314, 2)\n",
      "data3.csv (419, 2)\n",
      "data4.csv (441, 2)\n"
     ]
    }
   ],
   "source": [
    "# loading the datasets\n",
    "filenames = ['data1.csv', 'data2.csv', 'data3.csv', 'data4.csv']\n",
    "datasets = [np.loadtxt(fname, delimiter=', ') for fname in filenames]\n",
    "for fname, data in zip(filenames, datasets):\n",
    "    print (fname, data.shape)"
   ]
  },
  {
   "cell_type": "markdown",
   "metadata": {},
   "source": [
    "Q17. Detect the outliers in all 4 datasets using the following algorithms:\n",
    "- `sklearn.covariance.EllipticEnvelope` - a statistical-based AD method\n",
    "- `sklearn.ensemble.IsolationForest` - an isolation-based AD method\n",
    "- `sklearn.neighbors.LocalOutlierFactor` - a density-based AD method\n",
    "- `sklearn.svm.OneClassSVM` - a model-based AD method\n",
    "\n",
    "Create scatterplots that show the outliers detected in each dataset with each method. (16 plots in total.)\n",
    "\n",
    "The following plotting function is provided for you. You should pass in a list of y_pred values corresponding to all 16 of your plots. In order for this plotting function to work correctly, the order of your list should be: Dataset1 with ElipticEnvelope, Dataset1 with IsolationForest, Dataset1 with LocalOutlierFactor, Dataset1 with One-Class SVM, Dataset2 with EE, Dataset2 with IF, Dataset2 with LOF, Dataset2 with SVM, DS3 with EE, DS3 with IF, DS3 with LOF, DS3 with SVM, DS4 with EE, DS4 with IF, DS4 with LOF, DS4 with SVM."
   ]
  },
  {
   "cell_type": "code",
   "execution_count": null,
   "metadata": {},
   "outputs": [],
   "source": [
    "# Do not change the code in this cell!\n",
    "# Create all 16 anomaly detection plots\n",
    "def plot_all(y_preds):\n",
    "    \n",
    "    print(\"len(y_preds):\", len(y_preds))\n",
    "    \n",
    "    names = ['Robust Covariance', 'Isolation Forest', 'Local Outlier Factor', 'One-Class SVM']\n",
    "    plt.figure(figsize=(len(names) * 2 + 3, 12.5))\n",
    "    plt.subplots_adjust(left=.02, right=.98, bottom=.001, top=.96, wspace=.05, hspace=.01)\n",
    "    plot_num = 1\n",
    "    \n",
    "    for i_dataset in range(len(datasets)):\n",
    "        for j_algorithm in range(len(names)):\n",
    "            \n",
    "            plt.subplot(len(datasets), len(names), plot_num)\n",
    "            if i_dataset == 0:\n",
    "                plt.title(names[j_algorithm], size=18)\n",
    "\n",
    "            colors = np.array(['#377eb8', '#ff7f00'])\n",
    "            plt.scatter(datasets[i_dataset][:, 0], datasets[i_dataset][:, 1], \n",
    "                        s=10, color=colors[(y_preds[plot_num-1] + 1) // 2])\n",
    "\n",
    "            plt.xlim(-7, 7)\n",
    "            plt.ylim(-7, 7)\n",
    "            plt.xticks(())\n",
    "            plt.yticks(())\n",
    "            \n",
    "            plot_num += 1\n",
    "\n",
    "    plt.show()"
   ]
  },
  {
   "cell_type": "markdown",
   "metadata": {},
   "source": [
    "Directions:\n",
    "* Use a `contamination` (or `nu` for `OneClassSVM`) of 0.25.\n",
    "* For the `OneClassSVM` use `rbf` kernel.\n",
    "* NOTE: To preform AD in an unsupervised way, you will pass the same dataset into `fit` and `predict.`\n",
    "\n",
    "Some code is provided here to get you started."
   ]
  },
  {
   "cell_type": "code",
   "execution_count": null,
   "metadata": {},
   "outputs": [],
   "source": [
    "from sklearn.covariance import EllipticEnvelope\n",
    "from sklearn.ensemble import IsolationForest\n",
    "from sklearn.neighbors import LocalOutlierFactor\n",
    "from sklearn.svm import OneClassSVM\n",
    "\n",
    "\n",
    "outliers_fraction = 0.25\n",
    "\n",
    "#this will be your list of y_preds for the 16 plots\n",
    "y_pred_list = list()\n",
    "\n",
    "#for each of the 4 datasets\n",
    "for X in datasets:\n",
    "    \n",
    "    #apply EllipticEnvelope AD\n",
    "    #append resulting y_pred to y_pred_list\n",
    "    \n",
    "    #apply IsolationForest AD\n",
    "    #append resulting y_pred to y_pred_list\n",
    "    \n",
    "    #apply LocalOutlierFactor AD\n",
    "    #append resulting y_pred to y_pred_list\n",
    "\n",
    "    #apply OneClassSVM AD\n",
    "    #append resulting y_pred to y_pred_list\n",
    "\n",
    " \n",
    "\n",
    "plot_all(y_pred_list)"
   ]
  }
 ],
 "metadata": {
  "kernelspec": {
   "display_name": "Python 3",
   "language": "python",
   "name": "python3"
  },
  "language_info": {
   "codemirror_mode": {
    "name": "ipython",
    "version": 3
   },
   "file_extension": ".py",
   "mimetype": "text/x-python",
   "name": "python",
   "nbconvert_exporter": "python",
   "pygments_lexer": "ipython3",
   "version": "3.7.6"
  }
 },
 "nbformat": 4,
 "nbformat_minor": 2
}
