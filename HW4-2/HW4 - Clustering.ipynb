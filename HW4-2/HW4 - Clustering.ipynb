{
 "cells": [
  {
   "cell_type": "markdown",
   "metadata": {},
   "source": [
    "# Name(s):"
   ]
  },
  {
   "cell_type": "markdown",
   "metadata": {},
   "source": [
    "# Assignment 4: Clustering\n",
    "\n",
    "In this assignment we'll be looking at three popular types of clustering algorithms -- K-Means clustering, Density Based clustering, and Hierarchical clustering. We'll also look at some measures of cluster quality like cohesion, separation and silhoutte coefficient."
   ]
  },
  {
   "cell_type": "markdown",
   "metadata": {},
   "source": [
    "## Part 1: Implement K Means Clustering\n",
    "\n",
    "In k-means clustering you are given a dataset and a hyperparameter, k, specifying the number of desired clusters. The objective function of k-means is to minimize the sum of squared error (SSE) of the output clusters. Unfortunately, the solution to this problem is NP Hard. In this assignment we'll be implementing the iterative algorithm that produces the locally optimal solution to this problem but guarantees convergence."
   ]
  },
  {
   "cell_type": "code",
   "execution_count": 273,
   "metadata": {},
   "outputs": [],
   "source": [
    "# Some headers\n",
    "import random\n",
    "import numpy as np\n",
    "import pandas as pd\n",
    "import matplotlib.pyplot as plt\n",
    "from numpy.random import rand\n",
    "from numpy import square, sqrt\n",
    "from pandas import DataFrame\n",
    "from sklearn.manifold import MDS\n",
    "from sklearn.model_selection import StratifiedKFold\n",
    "from scipy.spatial.distance import pdist"
   ]
  },
  {
   "cell_type": "code",
   "execution_count": 274,
   "metadata": {},
   "outputs": [],
   "source": [
    "# Enable inline mode for matplotlib so that Jupyter displays plots\n",
    "%matplotlib inline"
   ]
  },
  {
   "cell_type": "code",
   "execution_count": 293,
   "metadata": {
    "scrolled": false
   },
   "outputs": [
    {
     "name": "stdout",
     "output_type": "stream",
     "text": [
      "450\n"
     ]
    },
    {
     "data": {
      "image/png": "[encoded data removed]",
      "text/plain": [
       "<Figure size 432x288 with 1 Axes>"
      ]
     },
     "metadata": {
      "needs_background": "light"
     },
     "output_type": "display_data"
    }
   ],
   "source": [
    "# Get data from file\n",
    "data = np.genfromtxt(\"data_kmeans.csv\", delimiter=\",\")\n",
    "plt.scatter(data[:,0],data[:,1], marker='.')\n",
    "print(len(data))"
   ]
  },
  {
   "cell_type": "markdown",
   "metadata": {},
   "source": [
    "Q1. Implement the function `generate_clusters` that returns clusters, given the cluster centroids (`mu`) and the dataset (`data`). Each datapoint needs to be associated to the closest cluster centroid. You may return this in any format/data structure you think is appropriate."
   ]
  },
  {
   "cell_type": "code",
   "execution_count": 276,
   "metadata": {},
   "outputs": [],
   "source": [
    "def generate_clusters(data, mu):\n",
    "    # your code goes here\n",
    "    for point in data: \n",
    "        best_dist = None\n",
    "        my_mu = None\n",
    "        for centroid in mu:\n",
    "            dist = euclidean_dist(point, centroid)\n",
    "            if best_dist == None or best_dist > dist:\n",
    "                best_dist = dist\n",
    "                my_mu = centroid\n",
    "        point.update_mu(my_mu)\n",
    "    # MU == list of the Centroids\n",
    "    # Data == is our data\n",
    "    # We need to mark every datapoint as belonging to the centroid nearest to them. \n",
    "    \n",
    "    # Ideas of implementation\n",
    "#         - Centroids would be keys, and the clusters would be the values\n",
    "#         - Each cluster would be a list of all of the points in that cluster\n",
    "    return data \n",
    "\n",
    "def euclidean_dist(point_a, point_b):\n",
    "    return np.sqrt(np.power(point_a.x - point_b.x, 2) + np.power(point_a.y - point_b.y, 2))"
   ]
  },
  {
   "cell_type": "markdown",
   "metadata": {},
   "source": [
    "Q2. Implement the function `recompute_centroids` that returns the centroids given a set of input clusters. Hint: you need to calculate the mean for each cluster."
   ]
  },
  {
   "cell_type": "code",
   "execution_count": 277,
   "metadata": {},
   "outputs": [],
   "source": [
    "def recompute_centroids(clusters):\n",
    "    # your code goes here\n",
    "    dict = {}\n",
    "    new_mus = []\n",
    "    for point in clusters:\n",
    "        if (point.mu.x, point.mu.y) not in dict:\n",
    "            dict[(point.mu.x, point.mu.y)] = [point]\n",
    "        else:\n",
    "            dict[(point.mu.x, point.mu.y)].append(point)\n",
    "            \n",
    "    for key in dict.keys():\n",
    "        mu_x = 0\n",
    "        mu_y = 0\n",
    "        for val in dict[key]:\n",
    "            mu_x += val.x\n",
    "            mu_y += val.y\n",
    "        mu_x /= len(dict[key])\n",
    "        mu_y /= len(dict[key])\n",
    "        new_mu = data_point(mu_x, mu_y)\n",
    "        new_mus.append(new_mu)\n",
    "    return new_mus"
   ]
  },
  {
   "cell_type": "markdown",
   "metadata": {},
   "source": [
    "Q3. Implement the function `check_convergence` that checks if the termination condition of k means algorithm has reached, i.e. the previous centroids are the same as the new centroids. "
   ]
  },
  {
   "cell_type": "code",
   "execution_count": 278,
   "metadata": {},
   "outputs": [],
   "source": [
    "def check_convergence(mu, previous_mu):\n",
    "    if mu is None or previous_mu is None:\n",
    "        return False\n",
    "    elif mu == previous_mu:\n",
    "        return True\n",
    "    return False\n",
    "\n",
    "def check_clusters(clusters):\n",
    "    for point in clusters:\n",
    "        if not check_convergence(point.mu, point.prev_mu):\n",
    "            return False\n",
    "    return True"
   ]
  },
  {
   "cell_type": "markdown",
   "metadata": {},
   "source": [
    "Q4. Implement the function `k_means_clustering` that returns k clusters along with their centroids given the input dataset and the desired number of clusters (`k`)."
   ]
  },
  {
   "cell_type": "code",
   "execution_count": 279,
   "metadata": {},
   "outputs": [],
   "source": [
    "def k_means_clustering(data, k):\n",
    "    \n",
    "    data_points = []\n",
    "    for point in data:\n",
    "        new_point = data_point(point[0], point[1])\n",
    "        data_points.append(new_point)\n",
    "    \n",
    "    # Cluster stores all of the data points\n",
    "    clusters = data_points\n",
    "    # MU is a list of centroids\n",
    "    mu = get_mus(clusters, k)\n",
    "    \n",
    "    # While the clusters have not conformed, keep generating new clusters/centroids\n",
    "    while not check_clusters(clusters):\n",
    "        clusters = generate_clusters(clusters, mu)\n",
    "        mu = recompute_centroids(clusters)\n",
    "\n",
    "    dict = {}\n",
    "    for point in clusters:\n",
    "        if (point.mu.x, point.mu.y) not in dict:\n",
    "            dict[(point.mu.x, point.mu.y)] = [[point.x, point.y]]\n",
    "        else:\n",
    "            dict[(point.mu.x, point.mu.y)].append([point.x, point.y])\n",
    "    return dict\n",
    "\n",
    "# A data structure to help keep track of the needed info. \n",
    "class data_point:\n",
    "    \n",
    "    def __init__(self, x, y):\n",
    "        #print(x, y)\n",
    "        self.x = x\n",
    "        self.y = y\n",
    "        self.mu = None\n",
    "        self.prev_mu = None\n",
    "    \n",
    "    def update_mu(self, new_mu):\n",
    "        self.prev_mu = self.mu\n",
    "        self.mu = new_mu\n",
    "        \n",
    "    def __str__(self):\n",
    "        return \"x: {}, y: {}\".format(self.x, self.y) \n",
    "    \n",
    "    def __eq__(self, obj):\n",
    "        return isinstance(obj, data_point) and obj.x == self.x and obj.y == self.y\n",
    "    \n",
    "def get_mus(clusters, k):\n",
    "    mu = []\n",
    "    for i in range(k):\n",
    "        rand = random.randrange(len(clusters))\n",
    "        mu.append(clusters[rand])\n",
    "        \n",
    "    return mu\n"
   ]
  },
  {
   "cell_type": "markdown",
   "metadata": {},
   "source": [
    "Q5. Cluster the data using `k_means_clustering` with `k = 5`. Display the clusters using `plt.scatter`, make sure to mark different clusters with a different color. Also calculate the cohesion and separation for the resulting clustering."
   ]
  },
  {
   "cell_type": "code",
   "execution_count": 311,
   "metadata": {
    "scrolled": true
   },
   "outputs": [
    {
     "data": {
      "image/png": "[encoded data removed]",
      "text/plain": [
       "<Figure size 432x288 with 1 Axes>"
      ]
     },
     "metadata": {
      "needs_background": "light"
     },
     "output_type": "display_data"
    }
   ],
   "source": [
    "# your code goes here\n",
    "def euclidean_dist2(lst1, lst2):\n",
    "    #print(lst1, lst2)\n",
    "    return np.sqrt(np.power(lst1[0] - lst2[0], 2) + np.power(lst1[1] - lst2[1], 2))\n",
    "# We need to make a scatter plot for our clusters using a different color for each different cluster. \n",
    "# We need to calc the Cohesion and Separation \n",
    "clusters = k_means_clustering(data, 5)\n",
    "\n",
    "for centroid in clusters.keys():\n",
    "    cluster = clusters[centroid]\n",
    "    npy_data = np.asarray(cluster)\n",
    "    plt.scatter(npy_data[:,0], npy_data[:,1], marker='.')\n",
    "plt.show()\n"
   ]
  },
  {
   "cell_type": "markdown",
   "metadata": {},
   "source": [
    "Q6. Find the best k for this dataset by plotting SSE vs k for k = 1-10. Based on your plot, which value of k would you choose and why?"
   ]
  },
  {
   "cell_type": "code",
   "execution_count": 338,
   "metadata": {},
   "outputs": [
    {
     "data": {
      "image/png": "[encoded data removed]",
      "text/plain": [
       "<Figure size 432x288 with 1 Axes>"
      ]
     },
     "metadata": {
      "needs_background": "light"
     },
     "output_type": "display_data"
    }
   ],
   "source": [
    "# your code goes here\n",
    "import matplotlib.pyplot as plt\n",
    "\n",
    "SSE_list = []\n",
    "for i in range(1, 11):\n",
    "    copy_data = data\n",
    "    clusters = k_means_clustering(copy_data, i)\n",
    "    SSE = 0\n",
    "    for centroid in list(clusters.keys()):\n",
    "        SSE_Cluster = 0\n",
    "        for point in clusters.get(centroid):\n",
    "            SSE_Cluster += np.power(euclidean_dist2(point, centroid), 2)\n",
    "        SSE += SSE_Cluster\n",
    "    SSE_list.append(SSE)\n",
    "    \n",
    "plt.plot(SSE_list)\n",
    "plt.show()"
   ]
  },
  {
   "cell_type": "markdown",
   "metadata": {},
   "source": [
    "## Part 2: Implement DBSCAN\n",
    "\n",
    "For this part you'll be implementing DBSCAN, one of the most popular density based clustering algorithms."
   ]
  },
  {
   "cell_type": "code",
   "execution_count": 224,
   "metadata": {},
   "outputs": [
    {
     "name": "stdout",
     "output_type": "stream",
     "text": [
      "<class 'numpy.ndarray'>\n"
     ]
    },
    {
     "data": {
      "image/png": "[encoded data removed]",
      "text/plain": [
       "<Figure size 432x288 with 1 Axes>"
      ]
     },
     "metadata": {},
     "output_type": "display_data"
    }
   ],
   "source": [
    "# Get data from file\n",
    "data = np.genfromtxt(\"data_dbscan.csv\", delimiter=\",\")\n",
    "plt.scatter(data[:,0],data[:,1], marker='.')\n",
    "print(type(data))"
   ]
  },
  {
   "cell_type": "markdown",
   "metadata": {},
   "source": [
    "Q7. First, run your `k_means_clustering` with `k = 2` on this dataset and display the output clusters - make sure that different clusters are marked with different colors. What do you observe? (Answer as a comment.)"
   ]
  },
  {
   "cell_type": "code",
   "execution_count": 13,
   "metadata": {
    "collapsed": true
   },
   "outputs": [],
   "source": [
    "# your code goes here\n",
    "\n",
    "# Read above. "
   ]
  },
  {
   "cell_type": "markdown",
   "metadata": {},
   "source": [
    "Q8. Implement the DBSCAN algorithm and display the output clusters. \n",
    "\n",
    "There is a  pseudocode version of the DBSCAN algorithm on [Wikipedia](https://en.wikipedia.org/wiki/DBSCAN#Algorithm) that you are welcome to follow. If you are not familiar with the 'continue' statement in coding, then please take a look at [this](https://www.tutorialspoint.com/python/python_loop_control.htm). Also note that a set is actually not the best data structure to use when implementing this in Python. Just use this pseudocode as scaffolding - you may need to make specific implementation changes to it! \n",
    "\n",
    "Run your DBSCAN clustering on the data with eps = 0.28 and minPts = 8. Plot the resulting clusters with each cluster, and noise, indicated by different colors. "
   ]
  },
  {
   "cell_type": "code",
   "execution_count": 228,
   "metadata": {},
   "outputs": [],
   "source": [
    "# your code goes here\n",
    "\n",
    "# Just look at the Wiki"
   ]
  },
  {
   "cell_type": "markdown",
   "metadata": {},
   "source": [
    "## Part 3: Clustering with scikit-learn and scipy"
   ]
  },
  {
   "cell_type": "markdown",
   "metadata": {},
   "source": [
    "#### Data\n",
    "\n",
    "For this part of the assigment you'll be working with the Epileptic Seizure Recognition Data Set developed at Rochester Institute of Technology. In this data set each row is a sample of the EEG recording at a different point in time. The dataset contains 179 columns, the first 178 are the EEG features while the last column represents the label y {1, 2, 3, 4, 5}. All subjects falling in classes 2, 3, 4, and 5 are subjects who did not have epileptic seizure. Only subjects in class 1 have an epileptic seizure. The class labels will not be used for clustering (which is an *unsupervised* task!) - they will just be used for plotting the data. The only change that was made to the original dataset was removing the first column, which contained the row indexes. You can find additional information about the dataset [here](https://archive.ics.uci.edu/ml/datasets/Epileptic+Seizure+Recognition)."
   ]
  },
  {
   "cell_type": "code",
   "execution_count": 3,
   "metadata": {},
   "outputs": [
    {
     "name": "stdout",
     "output_type": "stream",
     "text": [
      "(11500, 179)\n"
     ]
    },
    {
     "data": {
      "text/html": [
       "<div>\n",
       "<style scoped>\n",
       "    .dataframe tbody tr th:only-of-type {\n",
       "        vertical-align: middle;\n",
       "    }\n",
       "\n",
       "    .dataframe tbody tr th {\n",
       "        vertical-align: top;\n",
       "    }\n",
       "\n",
       "    .dataframe thead th {\n",
       "        text-align: right;\n",
       "    }\n",
       "</style>\n",
       "<table border=\"1\" class=\"dataframe\">\n",
       "  <thead>\n",
       "    <tr style=\"text-align: right;\">\n",
       "      <th></th>\n",
       "      <th>X1</th>\n",
       "      <th>X2</th>\n",
       "      <th>X3</th>\n",
       "      <th>X4</th>\n",
       "      <th>X5</th>\n",
       "      <th>X6</th>\n",
       "      <th>X7</th>\n",
       "      <th>X8</th>\n",
       "      <th>X9</th>\n",
       "      <th>X10</th>\n",
       "      <th>...</th>\n",
       "      <th>X170</th>\n",
       "      <th>X171</th>\n",
       "      <th>X172</th>\n",
       "      <th>X173</th>\n",
       "      <th>X174</th>\n",
       "      <th>X175</th>\n",
       "      <th>X176</th>\n",
       "      <th>X177</th>\n",
       "      <th>X178</th>\n",
       "      <th>y</th>\n",
       "    </tr>\n",
       "  </thead>\n",
       "  <tbody>\n",
       "    <tr>\n",
       "      <th>0</th>\n",
       "      <td>135</td>\n",
       "      <td>190</td>\n",
       "      <td>229</td>\n",
       "      <td>223</td>\n",
       "      <td>192</td>\n",
       "      <td>125</td>\n",
       "      <td>55</td>\n",
       "      <td>-9</td>\n",
       "      <td>-33</td>\n",
       "      <td>-38</td>\n",
       "      <td>...</td>\n",
       "      <td>-17</td>\n",
       "      <td>-15</td>\n",
       "      <td>-31</td>\n",
       "      <td>-77</td>\n",
       "      <td>-103</td>\n",
       "      <td>-127</td>\n",
       "      <td>-116</td>\n",
       "      <td>-83</td>\n",
       "      <td>-51</td>\n",
       "      <td>4</td>\n",
       "    </tr>\n",
       "    <tr>\n",
       "      <th>1</th>\n",
       "      <td>386</td>\n",
       "      <td>382</td>\n",
       "      <td>356</td>\n",
       "      <td>331</td>\n",
       "      <td>320</td>\n",
       "      <td>315</td>\n",
       "      <td>307</td>\n",
       "      <td>272</td>\n",
       "      <td>244</td>\n",
       "      <td>232</td>\n",
       "      <td>...</td>\n",
       "      <td>164</td>\n",
       "      <td>150</td>\n",
       "      <td>146</td>\n",
       "      <td>152</td>\n",
       "      <td>157</td>\n",
       "      <td>156</td>\n",
       "      <td>154</td>\n",
       "      <td>143</td>\n",
       "      <td>129</td>\n",
       "      <td>1</td>\n",
       "    </tr>\n",
       "    <tr>\n",
       "      <th>2</th>\n",
       "      <td>-32</td>\n",
       "      <td>-39</td>\n",
       "      <td>-47</td>\n",
       "      <td>-37</td>\n",
       "      <td>-32</td>\n",
       "      <td>-36</td>\n",
       "      <td>-57</td>\n",
       "      <td>-73</td>\n",
       "      <td>-85</td>\n",
       "      <td>-94</td>\n",
       "      <td>...</td>\n",
       "      <td>57</td>\n",
       "      <td>64</td>\n",
       "      <td>48</td>\n",
       "      <td>19</td>\n",
       "      <td>-12</td>\n",
       "      <td>-30</td>\n",
       "      <td>-35</td>\n",
       "      <td>-35</td>\n",
       "      <td>-36</td>\n",
       "      <td>5</td>\n",
       "    </tr>\n",
       "    <tr>\n",
       "      <th>3</th>\n",
       "      <td>-105</td>\n",
       "      <td>-101</td>\n",
       "      <td>-96</td>\n",
       "      <td>-92</td>\n",
       "      <td>-89</td>\n",
       "      <td>-95</td>\n",
       "      <td>-102</td>\n",
       "      <td>-100</td>\n",
       "      <td>-87</td>\n",
       "      <td>-79</td>\n",
       "      <td>...</td>\n",
       "      <td>-82</td>\n",
       "      <td>-81</td>\n",
       "      <td>-80</td>\n",
       "      <td>-77</td>\n",
       "      <td>-85</td>\n",
       "      <td>-77</td>\n",
       "      <td>-72</td>\n",
       "      <td>-69</td>\n",
       "      <td>-65</td>\n",
       "      <td>5</td>\n",
       "    </tr>\n",
       "    <tr>\n",
       "      <th>4</th>\n",
       "      <td>-9</td>\n",
       "      <td>-65</td>\n",
       "      <td>-98</td>\n",
       "      <td>-102</td>\n",
       "      <td>-78</td>\n",
       "      <td>-48</td>\n",
       "      <td>-16</td>\n",
       "      <td>0</td>\n",
       "      <td>-21</td>\n",
       "      <td>-59</td>\n",
       "      <td>...</td>\n",
       "      <td>4</td>\n",
       "      <td>2</td>\n",
       "      <td>-12</td>\n",
       "      <td>-32</td>\n",
       "      <td>-41</td>\n",
       "      <td>-65</td>\n",
       "      <td>-83</td>\n",
       "      <td>-89</td>\n",
       "      <td>-73</td>\n",
       "      <td>5</td>\n",
       "    </tr>\n",
       "  </tbody>\n",
       "</table>\n",
       "<p>5 rows × 179 columns</p>\n",
       "</div>"
      ],
      "text/plain": [
       "    X1   X2   X3   X4   X5   X6   X7   X8   X9  X10 ...  X170  X171  X172  \\\n",
       "0  135  190  229  223  192  125   55   -9  -33  -38 ...   -17   -15   -31   \n",
       "1  386  382  356  331  320  315  307  272  244  232 ...   164   150   146   \n",
       "2  -32  -39  -47  -37  -32  -36  -57  -73  -85  -94 ...    57    64    48   \n",
       "3 -105 -101  -96  -92  -89  -95 -102 -100  -87  -79 ...   -82   -81   -80   \n",
       "4   -9  -65  -98 -102  -78  -48  -16    0  -21  -59 ...     4     2   -12   \n",
       "\n",
       "   X173  X174  X175  X176  X177  X178  y  \n",
       "0   -77  -103  -127  -116   -83   -51  4  \n",
       "1   152   157   156   154   143   129  1  \n",
       "2    19   -12   -30   -35   -35   -36  5  \n",
       "3   -77   -85   -77   -72   -69   -65  5  \n",
       "4   -32   -41   -65   -83   -89   -73  5  \n",
       "\n",
       "[5 rows x 179 columns]"
      ]
     },
     "execution_count": 3,
     "metadata": {},
     "output_type": "execute_result"
    }
   ],
   "source": [
    "# Reading the Epileptic Seizure Data Set\n",
    "dataset = pd.read_csv(\"data_seizure_edited.csv\", header = 0)\n",
    "print(dataset.shape)\n",
    "\n",
    "#split the dataset into features and labels\n",
    "labels = dataset['y']\n",
    "data = dataset.drop('y', axis = 1)\n",
    "\n",
    "dataset.head()"
   ]
  },
  {
   "cell_type": "markdown",
   "metadata": {},
   "source": [
    "#### Data scaling & dimensionality reduction with PCA\n",
    "Both K-means and DBSCAN break down in high dimensions, as distance (and thus density) becomes less meaningful in high dimensions. So, before we run either of these clustering algorithms, we want to reduce the dimensionality of our dataset. Recall that it is critical to scale your data prior to running PCA. "
   ]
  },
  {
   "cell_type": "markdown",
   "metadata": {},
   "source": [
    "Q9. \n",
    "* Use `sklearn.preprocessing.StandardScaler` to standardize the dataset’s features (mean = 0 and variance = 1). Only standardize the the features, not the class labels! This will be required for running the principal component analysis (PCA) dimensionality reduction. Note that `StandardScaler` returns a numpy array.\n",
    "* Use `sklearn.decomposition.PCA` to perform PCA on the data.\n",
    "* Set `n_components` to 0.95 and `svd_solver` to 'full', so that the PCA will reduce the number of dimensions to however many are necessary to retain 95% of the variance. \n",
    "* Use `fit_transform` to perform the dimensionality reduction. \n",
    "* Note that `fit_transform` returns a numpy array. Put your transformed data back into a Pandas DataFrame by doing something like this (subsitute your variable names): `data = DataFrame(pca_data)`\n",
    "* Show the head of the resulting DataFrame (and make sure the dimensionality has actually been reduced)."
   ]
  },
  {
   "cell_type": "code",
   "execution_count": null,
   "metadata": {},
   "outputs": [],
   "source": [
    "# your code goes here"
   ]
  },
  {
   "cell_type": "markdown",
   "metadata": {},
   "source": [
    "Q10. You are provided code here to plot the data. This code randomly samples 300 rows from the entire dataset, then uses `sklearn.manifold.MDS` to project the data onto 2 dimensions, and plots it on a scatter plot. (Manifold Learning is another form of dimensionality reduction. It essentially \"unrolls\" the data onto fewer dimensions. For a simple, visual example, see the first image [here](https://www.researchgate.net/figure/Dimensionality-reduction-effect-over-a-Swiss-roll-manifold-Resultant-embedded-data-is-an_fig1_286926602).) \n",
    "\n",
    "The points will be marked with appropriate colors based on their labels. This is the only times labels will be used. (This plot will change each time you re-run this cell due to the random selection of 300 data points. This downsampling is to save time.)\n",
    "\n",
    "* Pass your dataset (that has been reduced in dimensions from Q9) and the labels into this scatter function. Verify that the plot looks like 2 clusters: an inner cluster (non-seizure patients, labels 2-5, will be blue/green/yellow), and an outer cluster (seizure patients, label 1, will be purple)."
   ]
  },
  {
   "cell_type": "code",
   "execution_count": 8,
   "metadata": {},
   "outputs": [],
   "source": [
    "# do not change this plotting function!\n",
    "def scatter(data, labels, numPoints = 300):\n",
    "\n",
    "    numEntries = data.shape[0]\n",
    "    start = random.randint(0, numEntries - numPoints)\n",
    "    end = start + numPoints\n",
    "    data = data.iloc[start:end, :]\n",
    "    labels = labels.iloc[start:end]\n",
    "    \n",
    "    mds = MDS(n_components=2)\n",
    "    mds_data = mds.fit_transform(data.iloc[:, :-1])\n",
    "    plt.scatter(mds_data[:, 0], mds_data[:, 1], c=labels, s=50)\n",
    "    plt.show()\n",
    "\n",
    "# your code goes here"
   ]
  },
  {
   "cell_type": "markdown",
   "metadata": {},
   "source": [
    "#### Clustering with DBSCAN"
   ]
  },
  {
   "cell_type": "markdown",
   "metadata": {},
   "source": [
    "Recall that for DBSCAN, we need to select an Eps and a MinPts. If we choose MinPts to be 4, then Eps can be selected by plotting the distance of every point to its 4th nearest neighbor and finding the \"bend\" in the graph. \n",
    "\n",
    "Q11. Find the optimal Eps for this dataset by plotting the distances of every point to its 4th nearest neighbor.\n",
    "* Use `sklearn.neighbors.NearestNeighbors` with `n_neighbors=4`. Call `fit` on your data.\n",
    "* Use the `kneighbors` method to find the distance of each point to its 4th nearest neighbor. Note that `kneighbors` returns two values. The first return value is a matrix of distances from each point to its k nearest neighbors. For example: \n",
    "\n",
    "Sklearn considers the distance from the point to itself as the closest neighbor (a distance of 0), then if the point is a distance of 2.5 away from its second nearest neighbor, a distance of 3.7 away from its third nearest neighbor, and a distance of 4.2 away from its fourth nearest neighbor, the row in the distance matrix for this point would look like: `[0, 2.5, 3.7, 4.2]`, indicating that 4.2 is the distance from this point to it's 4th nearest neighbor. \n",
    "\n",
    "* Plot the distance of every point to its 4th nearest neighbor. Be sure to sort the distances before you plot them. You can use `plt.plot(distances)` then `plt.show()` to plot them. \n",
    "* Use the plot to determine the best Eps for this dataset (just eyeball it)."
   ]
  },
  {
   "cell_type": "code",
   "execution_count": null,
   "metadata": {},
   "outputs": [],
   "source": [
    "# your code goes here"
   ]
  },
  {
   "cell_type": "markdown",
   "metadata": {},
   "source": [
    "Q12. \n",
    "* Using MinPts=4 and Eps=the distance you determined from Q11, cluster the data using `sklearn.cluster.DBSCAN`. Call `fit_predict` on your data and store the return value (the predicted cluster label for each data point). Note that the returned type is a numpy array. \n",
    "* Use the provided `scatter` function (Q10) to plot the resulting clusters. You will need to convert the numpy array of predicted labels to a `Series` in order to pass it in to `scatter`."
   ]
  },
  {
   "cell_type": "code",
   "execution_count": null,
   "metadata": {},
   "outputs": [],
   "source": [
    "# your code goes here"
   ]
  },
  {
   "cell_type": "markdown",
   "metadata": {},
   "source": [
    "#### Clustering with K-means"
   ]
  },
  {
   "cell_type": "markdown",
   "metadata": {},
   "source": [
    "Q13. \n",
    "* Use `sklearn.cluster.KMeans` to cluster this data using K means. Try values of k from 2 to 5. You will need to call `fit_predict` on your data and store the return value (the predicted cluster label for each data point). Note that the returned type is a numpy array. \n",
    "* Use `sklearn.metrics.silhouette_score` to evaluate which is the best number of clusters for this dataset. Note that you will need to cast the numpy array to a Series in order to pass it in to `silhouette_score`.\n",
    "* Use the provided `scatter` function (Q10) to plot the clustering that resulted in the best shilhouette score."
   ]
  },
  {
   "cell_type": "code",
   "execution_count": null,
   "metadata": {},
   "outputs": [],
   "source": [
    "# your code goes here"
   ]
  },
  {
   "cell_type": "markdown",
   "metadata": {},
   "source": [
    "Q14. What do you observe about the results of DBSCAN vs the results of K-means? Answer as a comment."
   ]
  },
  {
   "cell_type": "code",
   "execution_count": null,
   "metadata": {},
   "outputs": [],
   "source": [
    "'''\n",
    "Your answer goes here.\n",
    "'''"
   ]
  },
  {
   "cell_type": "markdown",
   "metadata": {},
   "source": [
    "#### Hierarchical Clustering"
   ]
  },
  {
   "cell_type": "markdown",
   "metadata": {},
   "source": [
    "For hierarchical clustering (Q15 and Q16), you'll work with just a sample of 115 datapoints. (This is because hierarchical clustering is expensive in both time and space.) The function to downsample the data is provided here for you."
   ]
  },
  {
   "cell_type": "code",
   "execution_count": null,
   "metadata": {},
   "outputs": [],
   "source": [
    "# Do not change the code in this cell\n",
    "# stratified sampling of the data\n",
    "def downsample_data(data):\n",
    "    downData = None\n",
    "    downLabels = None\n",
    "\n",
    "    kfold = StratifiedKFold(n_splits = 100)\n",
    "    for throwAway_index, subsample_index in kfold.split(data, labels):\n",
    "        downData = data.iloc[subsample_index]\n",
    "        downLabels = labels.iloc[subsample_index]\n",
    "        break\n",
    "    \n",
    "    print(downData.shape)\n",
    "    return downData"
   ]
  },
  {
   "cell_type": "markdown",
   "metadata": {},
   "source": [
    "Q15. Use Scipy's hierarchical clustering (`scipy.cluster.hierarchy`) to cluster the data using different linkage methods. **Make sure you are using a down-sampled dataset by passing your dataset into the provided downsample_data() function.**\n",
    "\n",
    "* Try all of these linkage methods: `single`, `complete`, `average`, `centroid`, `ward`\n",
    "* Note that the return value of the clustering is a linkage matrix (a cophenetic distance matrix)\n",
    "\n",
    "* Calculate the CPCC of each linkage method to determine which method worked best. Use `scipy.cluster.hierarchy.cophenet` for this. You'll pass in the linkage matrix from the clustering, and a proximity matrix that contains the actual distances between each point, which you can get by using `scipy.spatial.distance.pdist`. "
   ]
  },
  {
   "cell_type": "code",
   "execution_count": null,
   "metadata": {},
   "outputs": [],
   "source": [
    "# Make sure to pass your dataset into downsample_data() \n",
    "# and use the resulting smaller dataset for hierachical clustering\n",
    "\n",
    "# Pass the down-sampled dataset into pdist to get your proximity matrix for calculating CPCC\n",
    "proximity_matrix = pdist(sampled_dataset_goes_here)\n",
    "\n",
    "# the rest of your code goes here"
   ]
  },
  {
   "cell_type": "markdown",
   "metadata": {},
   "source": [
    "Q16. Using the best linkage method that you found in Q15, plot the dendrogram with `scipy.cluster.hierarchy.dendrogram`. "
   ]
  },
  {
   "cell_type": "code",
   "execution_count": null,
   "metadata": {},
   "outputs": [],
   "source": [
    "# your code goes here"
   ]
  },
  {
   "cell_type": "markdown",
   "metadata": {},
   "source": [
    "#### Anomaly Detection (AD)\n",
    "\n",
    "Anomaly detection (AD) algorithms can be broadly classified into 3 classes:\n",
    "- Supervised AD (labels available for both normal data and anomalies)\n",
    "- Semi-supervised AD, also called Novelty Detection (only normal data is available to train on)\n",
    "- Unsupervised AD, also called Outlier Detection (no labels are provided)\n",
    "\n",
    "In this part you'll experiment with 4 datasets and compare 4 different outlier detection (Unsupervised AD) methods."
   ]
  },
  {
   "cell_type": "code",
   "execution_count": 14,
   "metadata": {},
   "outputs": [
    {
     "name": "stdout",
     "output_type": "stream",
     "text": [
      "data1.csv (445, 2)\n",
      "data2.csv (314, 2)\n",
      "data3.csv (419, 2)\n",
      "data4.csv (441, 2)\n"
     ]
    }
   ],
   "source": [
    "# loading the datasets\n",
    "filenames = ['data1.csv', 'data2.csv', 'data3.csv', 'data4.csv']\n",
    "datasets = [np.loadtxt(fname, delimiter=', ') for fname in filenames]\n",
    "for fname, data in zip(filenames, datasets):\n",
    "    print (fname, data.shape)"
   ]
  },
  {
   "cell_type": "markdown",
   "metadata": {},
   "source": [
    "Q17. Detect the outliers in all 4 datasets using the following algorithms:\n",
    "- `sklearn.covariance.EllipticEnvelope` - a statistical-based AD method\n",
    "- `sklearn.ensemble.IsolationForest` - an isolation-based AD method\n",
    "- `sklearn.neighbors.LocalOutlierFactor` - a density-based AD method\n",
    "- `sklearn.svm.OneClassSVM` - a model-based AD method\n",
    "\n",
    "Create scatterplots that show the outliers detected in each dataset with each method. (16 plots in total.)\n",
    "\n",
    "The following plotting function is provided for you. You should pass in a list of y_pred values corresponding to all 16 of your plots. In order for this plotting function to work correctly, the order of your list should be: Dataset1 with ElipticEnvelope, Dataset1 with IsolationForest, Dataset1 with LocalOutlierFactor, Dataset1 with One-Class SVM, Dataset2 with EE, Dataset2 with IF, Dataset2 with LOF, Dataset2 with SVM, DS3 with EE, DS3 with IF, DS3 with LOF, DS3 with SVM, DS4 with EE, DS4 with IF, DS4 with LOF, DS4 with SVM."
   ]
  },
  {
   "cell_type": "code",
   "execution_count": null,
   "metadata": {},
   "outputs": [],
   "source": [
    "# Do not change the code in this cell!\n",
    "# Create all 16 anomaly detection plots\n",
    "def plot_all(y_preds):\n",
    "    \n",
    "    print(\"len(y_preds):\", len(y_preds))\n",
    "    \n",
    "    names = ['Robust Covariance', 'Isolation Forest', 'Local Outlier Factor', 'One-Class SVM']\n",
    "    plt.figure(figsize=(len(names) * 2 + 3, 12.5))\n",
    "    plt.subplots_adjust(left=.02, right=.98, bottom=.001, top=.96, wspace=.05, hspace=.01)\n",
    "    plot_num = 1\n",
    "    \n",
    "    for i_dataset in range(len(datasets)):\n",
    "        for j_algorithm in range(len(names)):\n",
    "            \n",
    "            plt.subplot(len(datasets), len(names), plot_num)\n",
    "            if i_dataset == 0:\n",
    "                plt.title(names[j_algorithm], size=18)\n",
    "\n",
    "            colors = np.array(['#377eb8', '#ff7f00'])\n",
    "            plt.scatter(datasets[i_dataset][:, 0], datasets[i_dataset][:, 1], \n",
    "                        s=10, color=colors[(y_preds[plot_num-1] + 1) // 2])\n",
    "\n",
    "            plt.xlim(-7, 7)\n",
    "            plt.ylim(-7, 7)\n",
    "            plt.xticks(())\n",
    "            plt.yticks(())\n",
    "            \n",
    "            plot_num += 1\n",
    "\n",
    "    plt.show()"
   ]
  },
  {
   "cell_type": "markdown",
   "metadata": {},
   "source": [
    "Directions:\n",
    "* Use a `contamination` (or `nu` for `OneClassSVM`) of 0.25.\n",
    "* For the `OneClassSVM` use `rbf` kernel.\n",
    "* NOTE: To preform AD in an unsupervised way, you will pass the same dataset into `fit` and `predict.`\n",
    "\n",
    "Some code is provided here to get you started."
   ]
  },
  {
   "cell_type": "code",
   "execution_count": null,
   "metadata": {},
   "outputs": [],
   "source": [
    "from sklearn.covariance import EllipticEnvelope\n",
    "from sklearn.ensemble import IsolationForest\n",
    "from sklearn.neighbors import LocalOutlierFactor\n",
    "from sklearn.svm import OneClassSVM\n",
    "\n",
    "\n",
    "outliers_fraction = 0.25\n",
    "\n",
    "#this will be your list of y_preds for the 16 plots\n",
    "y_pred_list = list()\n",
    "\n",
    "#for each of the 4 datasets\n",
    "for X in datasets:\n",
    "    \n",
    "    #apply EllipticEnvelope AD\n",
    "    #append resulting y_pred to y_pred_list\n",
    "    \n",
    "    #apply IsolationForest AD\n",
    "    #append resulting y_pred to y_pred_list\n",
    "    \n",
    "    #apply LocalOutlierFactor AD\n",
    "    #append resulting y_pred to y_pred_list\n",
    "\n",
    "    #apply OneClassSVM AD\n",
    "    #append resulting y_pred to y_pred_list\n",
    "\n",
    " \n",
    "\n",
    "plot_all(y_pred_list)"
   ]
  }
 ],
 "metadata": {
  "kernelspec": {
   "display_name": "Python 3",
   "language": "python",
   "name": "python3"
  },
  "language_info": {
   "codemirror_mode": {
    "name": "ipython",
    "version": 3
   },
   "file_extension": ".py",
   "mimetype": "text/x-python",
   "name": "python",
   "nbconvert_exporter": "python",
   "pygments_lexer": "ipython3",
   "version": "3.7.4"
  }
 },
 "nbformat": 4,
 "nbformat_minor": 2
}
